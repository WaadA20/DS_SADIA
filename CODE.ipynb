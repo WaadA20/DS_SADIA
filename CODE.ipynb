{
 "cells": [
  {
   "cell_type": "markdown",
   "id": "bba15c2d",
   "metadata": {},
   "source": [
    "# Predicting Hotel Booking Cancellation"
   ]
  },
  {
   "cell_type": "code",
   "execution_count": 138,
   "id": "888b4ac9",
   "metadata": {},
   "outputs": [],
   "source": [
    "# importing the libraries\n",
    "import pandas as pd\n",
    "import numpy as np\n",
    "import matplotlib.pyplot as plt\n",
    "import seaborn as sns\n"
   ]
  },
  {
   "cell_type": "code",
   "execution_count": 139,
   "id": "3eb35d3e",
   "metadata": {},
   "outputs": [],
   "source": [
    "# let try to load the data\n",
    "df = pd.read_csv('/Users/waadalotaibi/Desktop/DS/HotelData11.csv')\n"
   ]
  },
  {
   "cell_type": "code",
   "execution_count": 140,
   "id": "029b0588",
   "metadata": {},
   "outputs": [
    {
     "data": {
      "text/html": [
       "<div>\n",
       "<style scoped>\n",
       "    .dataframe tbody tr th:only-of-type {\n",
       "        vertical-align: middle;\n",
       "    }\n",
       "\n",
       "    .dataframe tbody tr th {\n",
       "        vertical-align: top;\n",
       "    }\n",
       "\n",
       "    .dataframe thead th {\n",
       "        text-align: right;\n",
       "    }\n",
       "</style>\n",
       "<table border=\"1\" class=\"dataframe\">\n",
       "  <thead>\n",
       "    <tr style=\"text-align: right;\">\n",
       "      <th></th>\n",
       "      <th>no_of_adults</th>\n",
       "      <th>no_of_children</th>\n",
       "      <th>no_of_weekend_nights</th>\n",
       "      <th>no_of_week_nights</th>\n",
       "      <th>type_of_meal_plan</th>\n",
       "      <th>required_car_parking_space</th>\n",
       "      <th>room_type_reserved</th>\n",
       "      <th>lead_time</th>\n",
       "      <th>arrival_year</th>\n",
       "      <th>arrival_month</th>\n",
       "      <th>arrival_date</th>\n",
       "      <th>market_segment_type</th>\n",
       "      <th>repeated_guest</th>\n",
       "      <th>no_of_previous_cancellations</th>\n",
       "      <th>no_of_previous_bookings_not_canceled</th>\n",
       "      <th>avg_price_per_room</th>\n",
       "      <th>no_of_special_requests</th>\n",
       "      <th>booking_status</th>\n",
       "    </tr>\n",
       "  </thead>\n",
       "  <tbody>\n",
       "    <tr>\n",
       "      <th>0</th>\n",
       "      <td>2</td>\n",
       "      <td>0</td>\n",
       "      <td>1</td>\n",
       "      <td>2</td>\n",
       "      <td>Meal Plan 1</td>\n",
       "      <td>0</td>\n",
       "      <td>Room_Type 1</td>\n",
       "      <td>224</td>\n",
       "      <td>2017</td>\n",
       "      <td>10</td>\n",
       "      <td>2</td>\n",
       "      <td>Offline</td>\n",
       "      <td>0</td>\n",
       "      <td>0</td>\n",
       "      <td>0</td>\n",
       "      <td>65.00</td>\n",
       "      <td>0</td>\n",
       "      <td>Not_Canceled</td>\n",
       "    </tr>\n",
       "    <tr>\n",
       "      <th>1</th>\n",
       "      <td>2</td>\n",
       "      <td>0</td>\n",
       "      <td>2</td>\n",
       "      <td>3</td>\n",
       "      <td>Not Selected</td>\n",
       "      <td>0</td>\n",
       "      <td>Room_Type 1</td>\n",
       "      <td>5</td>\n",
       "      <td>2018</td>\n",
       "      <td>11</td>\n",
       "      <td>6</td>\n",
       "      <td>Online</td>\n",
       "      <td>0</td>\n",
       "      <td>0</td>\n",
       "      <td>0</td>\n",
       "      <td>106.68</td>\n",
       "      <td>1</td>\n",
       "      <td>Not_Canceled</td>\n",
       "    </tr>\n",
       "    <tr>\n",
       "      <th>2</th>\n",
       "      <td>1</td>\n",
       "      <td>0</td>\n",
       "      <td>2</td>\n",
       "      <td>1</td>\n",
       "      <td>Meal Plan 1</td>\n",
       "      <td>0</td>\n",
       "      <td>Room_Type 1</td>\n",
       "      <td>1</td>\n",
       "      <td>2018</td>\n",
       "      <td>2</td>\n",
       "      <td>28</td>\n",
       "      <td>Online</td>\n",
       "      <td>0</td>\n",
       "      <td>0</td>\n",
       "      <td>0</td>\n",
       "      <td>60.00</td>\n",
       "      <td>0</td>\n",
       "      <td>Canceled</td>\n",
       "    </tr>\n",
       "    <tr>\n",
       "      <th>3</th>\n",
       "      <td>2</td>\n",
       "      <td>0</td>\n",
       "      <td>0</td>\n",
       "      <td>2</td>\n",
       "      <td>Meal Plan 1</td>\n",
       "      <td>0</td>\n",
       "      <td>Room_Type 1</td>\n",
       "      <td>211</td>\n",
       "      <td>2018</td>\n",
       "      <td>5</td>\n",
       "      <td>20</td>\n",
       "      <td>Online</td>\n",
       "      <td>0</td>\n",
       "      <td>0</td>\n",
       "      <td>0</td>\n",
       "      <td>100.00</td>\n",
       "      <td>0</td>\n",
       "      <td>Canceled</td>\n",
       "    </tr>\n",
       "    <tr>\n",
       "      <th>4</th>\n",
       "      <td>3</td>\n",
       "      <td>0</td>\n",
       "      <td>0</td>\n",
       "      <td>3</td>\n",
       "      <td>Not Selected</td>\n",
       "      <td>0</td>\n",
       "      <td>Room_Type 1</td>\n",
       "      <td>277</td>\n",
       "      <td>2019</td>\n",
       "      <td>7</td>\n",
       "      <td>13</td>\n",
       "      <td>Online</td>\n",
       "      <td>0</td>\n",
       "      <td>0</td>\n",
       "      <td>0</td>\n",
       "      <td>89.10</td>\n",
       "      <td>2</td>\n",
       "      <td>Canceled</td>\n",
       "    </tr>\n",
       "  </tbody>\n",
       "</table>\n",
       "</div>"
      ],
      "text/plain": [
       "   no_of_adults  no_of_children  no_of_weekend_nights  no_of_week_nights  \\\n",
       "0             2               0                     1                  2   \n",
       "1             2               0                     2                  3   \n",
       "2             1               0                     2                  1   \n",
       "3             2               0                     0                  2   \n",
       "4             3               0                     0                  3   \n",
       "\n",
       "  type_of_meal_plan  required_car_parking_space room_type_reserved  lead_time  \\\n",
       "0       Meal Plan 1                           0        Room_Type 1        224   \n",
       "1      Not Selected                           0        Room_Type 1          5   \n",
       "2       Meal Plan 1                           0        Room_Type 1          1   \n",
       "3       Meal Plan 1                           0        Room_Type 1        211   \n",
       "4      Not Selected                           0        Room_Type 1        277   \n",
       "\n",
       "   arrival_year  arrival_month  arrival_date market_segment_type  \\\n",
       "0          2017             10             2             Offline   \n",
       "1          2018             11             6              Online   \n",
       "2          2018              2            28              Online   \n",
       "3          2018              5            20              Online   \n",
       "4          2019              7            13              Online   \n",
       "\n",
       "   repeated_guest  no_of_previous_cancellations  \\\n",
       "0               0                             0   \n",
       "1               0                             0   \n",
       "2               0                             0   \n",
       "3               0                             0   \n",
       "4               0                             0   \n",
       "\n",
       "   no_of_previous_bookings_not_canceled  avg_price_per_room  \\\n",
       "0                                     0               65.00   \n",
       "1                                     0              106.68   \n",
       "2                                     0               60.00   \n",
       "3                                     0              100.00   \n",
       "4                                     0               89.10   \n",
       "\n",
       "   no_of_special_requests booking_status  \n",
       "0                       0   Not_Canceled  \n",
       "1                       1   Not_Canceled  \n",
       "2                       0       Canceled  \n",
       "3                       0       Canceled  \n",
       "4                       2       Canceled  "
      ]
     },
     "execution_count": 140,
     "metadata": {},
     "output_type": "execute_result"
    }
   ],
   "source": [
    "# lets try to look the data\n",
    "df.head()"
   ]
  },
  {
   "cell_type": "code",
   "execution_count": 141,
   "id": "1897d9d0",
   "metadata": {},
   "outputs": [
    {
     "name": "stdout",
     "output_type": "stream",
     "text": [
      "<class 'pandas.core.frame.DataFrame'>\n",
      "RangeIndex: 5499 entries, 0 to 5498\n",
      "Data columns (total 18 columns):\n",
      " #   Column                                Non-Null Count  Dtype  \n",
      "---  ------                                --------------  -----  \n",
      " 0   no_of_adults                          5499 non-null   int64  \n",
      " 1   no_of_children                        5499 non-null   int64  \n",
      " 2   no_of_weekend_nights                  5499 non-null   int64  \n",
      " 3   no_of_week_nights                     5499 non-null   int64  \n",
      " 4   type_of_meal_plan                     5499 non-null   object \n",
      " 5   required_car_parking_space            5499 non-null   int64  \n",
      " 6   room_type_reserved                    5499 non-null   object \n",
      " 7   lead_time                             5499 non-null   int64  \n",
      " 8   arrival_year                          5499 non-null   int64  \n",
      " 9   arrival_month                         5499 non-null   int64  \n",
      " 10  arrival_date                          5499 non-null   int64  \n",
      " 11  market_segment_type                   5499 non-null   object \n",
      " 12  repeated_guest                        5499 non-null   int64  \n",
      " 13  no_of_previous_cancellations          5499 non-null   int64  \n",
      " 14  no_of_previous_bookings_not_canceled  5499 non-null   int64  \n",
      " 15  avg_price_per_room                    5499 non-null   float64\n",
      " 16  no_of_special_requests                5499 non-null   int64  \n",
      " 17  booking_status                        5499 non-null   object \n",
      "dtypes: float64(1), int64(13), object(4)\n",
      "memory usage: 773.4+ KB\n"
     ]
    }
   ],
   "source": [
    "# lets try to check the general information of all columns in dataset\n",
    "df.info()"
   ]
  },
  {
   "cell_type": "code",
   "execution_count": 142,
   "id": "ef8a2d66",
   "metadata": {},
   "outputs": [
    {
     "data": {
      "text/plain": [
       "(5499, 18)"
      ]
     },
     "execution_count": 142,
     "metadata": {},
     "output_type": "execute_result"
    }
   ],
   "source": [
    "# lets try to check the shape of data\n",
    "df.shape"
   ]
  },
  {
   "cell_type": "code",
   "execution_count": 143,
   "id": "e7a73da3",
   "metadata": {},
   "outputs": [
    {
     "data": {
      "text/plain": [
       "pandas.core.frame.DataFrame"
      ]
     },
     "execution_count": 143,
     "metadata": {},
     "output_type": "execute_result"
    }
   ],
   "source": [
    "type(df)"
   ]
  },
  {
   "cell_type": "code",
   "execution_count": 144,
   "id": "63d54551",
   "metadata": {},
   "outputs": [
    {
     "name": "stdout",
     "output_type": "stream",
     "text": [
      "['no_of_adults', 'no_of_children', 'no_of_weekend_nights', 'no_of_week_nights', 'type_of_meal_plan', 'required_car_parking_space', 'room_type_reserved', 'lead_time', 'arrival_year', 'arrival_month', 'arrival_date', 'market_segment_type', 'repeated_guest', 'no_of_previous_cancellations', 'no_of_previous_bookings_not_canceled', 'avg_price_per_room', 'no_of_special_requests', 'booking_status']\n"
     ]
    }
   ],
   "source": [
    "# check the column names of data\n",
    "print(df.columns.tolist())"
   ]
  },
  {
   "cell_type": "code",
   "execution_count": 145,
   "id": "2ee51b49",
   "metadata": {},
   "outputs": [
    {
     "data": {
      "text/html": [
       "<div>\n",
       "<style scoped>\n",
       "    .dataframe tbody tr th:only-of-type {\n",
       "        vertical-align: middle;\n",
       "    }\n",
       "\n",
       "    .dataframe tbody tr th {\n",
       "        vertical-align: top;\n",
       "    }\n",
       "\n",
       "    .dataframe thead th {\n",
       "        text-align: right;\n",
       "    }\n",
       "</style>\n",
       "<table border=\"1\" class=\"dataframe\">\n",
       "  <thead>\n",
       "    <tr style=\"text-align: right;\">\n",
       "      <th></th>\n",
       "      <th>count</th>\n",
       "      <th>mean</th>\n",
       "      <th>std</th>\n",
       "      <th>min</th>\n",
       "      <th>25%</th>\n",
       "      <th>50%</th>\n",
       "      <th>75%</th>\n",
       "      <th>max</th>\n",
       "    </tr>\n",
       "  </thead>\n",
       "  <tbody>\n",
       "    <tr>\n",
       "      <th>no_of_adults</th>\n",
       "      <td>5499.0</td>\n",
       "      <td>1.887980</td>\n",
       "      <td>0.510529</td>\n",
       "      <td>0.0</td>\n",
       "      <td>2.000</td>\n",
       "      <td>2.0</td>\n",
       "      <td>2.0</td>\n",
       "      <td>4.0</td>\n",
       "    </tr>\n",
       "    <tr>\n",
       "      <th>no_of_children</th>\n",
       "      <td>5499.0</td>\n",
       "      <td>0.111475</td>\n",
       "      <td>0.403843</td>\n",
       "      <td>0.0</td>\n",
       "      <td>0.000</td>\n",
       "      <td>0.0</td>\n",
       "      <td>0.0</td>\n",
       "      <td>3.0</td>\n",
       "    </tr>\n",
       "    <tr>\n",
       "      <th>no_of_weekend_nights</th>\n",
       "      <td>5499.0</td>\n",
       "      <td>0.833424</td>\n",
       "      <td>0.871251</td>\n",
       "      <td>0.0</td>\n",
       "      <td>0.000</td>\n",
       "      <td>1.0</td>\n",
       "      <td>2.0</td>\n",
       "      <td>6.0</td>\n",
       "    </tr>\n",
       "    <tr>\n",
       "      <th>no_of_week_nights</th>\n",
       "      <td>5499.0</td>\n",
       "      <td>2.266594</td>\n",
       "      <td>1.451231</td>\n",
       "      <td>0.0</td>\n",
       "      <td>1.000</td>\n",
       "      <td>2.0</td>\n",
       "      <td>3.0</td>\n",
       "      <td>15.0</td>\n",
       "    </tr>\n",
       "    <tr>\n",
       "      <th>required_car_parking_space</th>\n",
       "      <td>5499.0</td>\n",
       "      <td>0.026914</td>\n",
       "      <td>0.161847</td>\n",
       "      <td>0.0</td>\n",
       "      <td>0.000</td>\n",
       "      <td>0.0</td>\n",
       "      <td>0.0</td>\n",
       "      <td>1.0</td>\n",
       "    </tr>\n",
       "    <tr>\n",
       "      <th>lead_time</th>\n",
       "      <td>5499.0</td>\n",
       "      <td>93.270413</td>\n",
       "      <td>91.085808</td>\n",
       "      <td>0.0</td>\n",
       "      <td>22.000</td>\n",
       "      <td>66.0</td>\n",
       "      <td>142.0</td>\n",
       "      <td>521.0</td>\n",
       "    </tr>\n",
       "    <tr>\n",
       "      <th>arrival_year</th>\n",
       "      <td>5499.0</td>\n",
       "      <td>2018.246772</td>\n",
       "      <td>0.646243</td>\n",
       "      <td>2017.0</td>\n",
       "      <td>2018.000</td>\n",
       "      <td>2018.0</td>\n",
       "      <td>2019.0</td>\n",
       "      <td>2019.0</td>\n",
       "    </tr>\n",
       "    <tr>\n",
       "      <th>arrival_month</th>\n",
       "      <td>5499.0</td>\n",
       "      <td>6.413712</td>\n",
       "      <td>2.982909</td>\n",
       "      <td>1.0</td>\n",
       "      <td>4.000</td>\n",
       "      <td>6.0</td>\n",
       "      <td>9.0</td>\n",
       "      <td>12.0</td>\n",
       "    </tr>\n",
       "    <tr>\n",
       "      <th>arrival_date</th>\n",
       "      <td>5499.0</td>\n",
       "      <td>15.488998</td>\n",
       "      <td>8.651493</td>\n",
       "      <td>1.0</td>\n",
       "      <td>8.000</td>\n",
       "      <td>16.0</td>\n",
       "      <td>23.0</td>\n",
       "      <td>31.0</td>\n",
       "    </tr>\n",
       "    <tr>\n",
       "      <th>repeated_guest</th>\n",
       "      <td>5499.0</td>\n",
       "      <td>0.024550</td>\n",
       "      <td>0.154763</td>\n",
       "      <td>0.0</td>\n",
       "      <td>0.000</td>\n",
       "      <td>0.0</td>\n",
       "      <td>0.0</td>\n",
       "      <td>1.0</td>\n",
       "    </tr>\n",
       "    <tr>\n",
       "      <th>no_of_previous_cancellations</th>\n",
       "      <td>5499.0</td>\n",
       "      <td>0.021277</td>\n",
       "      <td>0.308280</td>\n",
       "      <td>0.0</td>\n",
       "      <td>0.000</td>\n",
       "      <td>0.0</td>\n",
       "      <td>0.0</td>\n",
       "      <td>11.0</td>\n",
       "    </tr>\n",
       "    <tr>\n",
       "      <th>no_of_previous_bookings_not_canceled</th>\n",
       "      <td>5499.0</td>\n",
       "      <td>0.162939</td>\n",
       "      <td>1.941955</td>\n",
       "      <td>0.0</td>\n",
       "      <td>0.000</td>\n",
       "      <td>0.0</td>\n",
       "      <td>0.0</td>\n",
       "      <td>68.0</td>\n",
       "    </tr>\n",
       "    <tr>\n",
       "      <th>avg_price_per_room</th>\n",
       "      <td>5499.0</td>\n",
       "      <td>109.761442</td>\n",
       "      <td>38.219502</td>\n",
       "      <td>0.0</td>\n",
       "      <td>85.595</td>\n",
       "      <td>105.0</td>\n",
       "      <td>130.0</td>\n",
       "      <td>326.5</td>\n",
       "    </tr>\n",
       "    <tr>\n",
       "      <th>no_of_special_requests</th>\n",
       "      <td>5499.0</td>\n",
       "      <td>0.679578</td>\n",
       "      <td>0.816506</td>\n",
       "      <td>0.0</td>\n",
       "      <td>0.000</td>\n",
       "      <td>0.0</td>\n",
       "      <td>1.0</td>\n",
       "      <td>5.0</td>\n",
       "    </tr>\n",
       "  </tbody>\n",
       "</table>\n",
       "</div>"
      ],
      "text/plain": [
       "                                       count         mean        std     min  \\\n",
       "no_of_adults                          5499.0     1.887980   0.510529     0.0   \n",
       "no_of_children                        5499.0     0.111475   0.403843     0.0   \n",
       "no_of_weekend_nights                  5499.0     0.833424   0.871251     0.0   \n",
       "no_of_week_nights                     5499.0     2.266594   1.451231     0.0   \n",
       "required_car_parking_space            5499.0     0.026914   0.161847     0.0   \n",
       "lead_time                             5499.0    93.270413  91.085808     0.0   \n",
       "arrival_year                          5499.0  2018.246772   0.646243  2017.0   \n",
       "arrival_month                         5499.0     6.413712   2.982909     1.0   \n",
       "arrival_date                          5499.0    15.488998   8.651493     1.0   \n",
       "repeated_guest                        5499.0     0.024550   0.154763     0.0   \n",
       "no_of_previous_cancellations          5499.0     0.021277   0.308280     0.0   \n",
       "no_of_previous_bookings_not_canceled  5499.0     0.162939   1.941955     0.0   \n",
       "avg_price_per_room                    5499.0   109.761442  38.219502     0.0   \n",
       "no_of_special_requests                5499.0     0.679578   0.816506     0.0   \n",
       "\n",
       "                                           25%     50%     75%     max  \n",
       "no_of_adults                             2.000     2.0     2.0     4.0  \n",
       "no_of_children                           0.000     0.0     0.0     3.0  \n",
       "no_of_weekend_nights                     0.000     1.0     2.0     6.0  \n",
       "no_of_week_nights                        1.000     2.0     3.0    15.0  \n",
       "required_car_parking_space               0.000     0.0     0.0     1.0  \n",
       "lead_time                               22.000    66.0   142.0   521.0  \n",
       "arrival_year                          2018.000  2018.0  2019.0  2019.0  \n",
       "arrival_month                            4.000     6.0     9.0    12.0  \n",
       "arrival_date                             8.000    16.0    23.0    31.0  \n",
       "repeated_guest                           0.000     0.0     0.0     1.0  \n",
       "no_of_previous_cancellations             0.000     0.0     0.0    11.0  \n",
       "no_of_previous_bookings_not_canceled     0.000     0.0     0.0    68.0  \n",
       "avg_price_per_room                      85.595   105.0   130.0   326.5  \n",
       "no_of_special_requests                   0.000     0.0     1.0     5.0  "
      ]
     },
     "execution_count": 145,
     "metadata": {},
     "output_type": "execute_result"
    }
   ],
   "source": [
    "'''\n",
    "The describe method shows basic statistical characteristics of each numerical feature (int64 and float64 types):\n",
    "number of non-missing values, mean, standard deviation,range, median, 0.25 and 0.75 quartiles. \n",
    "\n",
    "'''\n",
    "df.describe().T"
   ]
  },
  {
   "cell_type": "code",
   "execution_count": 146,
   "id": "d565b942",
   "metadata": {},
   "outputs": [
    {
     "data": {
      "text/html": [
       "<div>\n",
       "<style scoped>\n",
       "    .dataframe tbody tr th:only-of-type {\n",
       "        vertical-align: middle;\n",
       "    }\n",
       "\n",
       "    .dataframe tbody tr th {\n",
       "        vertical-align: top;\n",
       "    }\n",
       "\n",
       "    .dataframe thead th {\n",
       "        text-align: right;\n",
       "    }\n",
       "</style>\n",
       "<table border=\"1\" class=\"dataframe\">\n",
       "  <thead>\n",
       "    <tr style=\"text-align: right;\">\n",
       "      <th></th>\n",
       "      <th>count</th>\n",
       "      <th>unique</th>\n",
       "      <th>top</th>\n",
       "      <th>freq</th>\n",
       "    </tr>\n",
       "  </thead>\n",
       "  <tbody>\n",
       "    <tr>\n",
       "      <th>type_of_meal_plan</th>\n",
       "      <td>5499</td>\n",
       "      <td>3</td>\n",
       "      <td>Meal Plan 1</td>\n",
       "      <td>4048</td>\n",
       "    </tr>\n",
       "    <tr>\n",
       "      <th>room_type_reserved</th>\n",
       "      <td>5499</td>\n",
       "      <td>7</td>\n",
       "      <td>Room_Type 1</td>\n",
       "      <td>4114</td>\n",
       "    </tr>\n",
       "    <tr>\n",
       "      <th>market_segment_type</th>\n",
       "      <td>5499</td>\n",
       "      <td>5</td>\n",
       "      <td>Online</td>\n",
       "      <td>4265</td>\n",
       "    </tr>\n",
       "    <tr>\n",
       "      <th>booking_status</th>\n",
       "      <td>5499</td>\n",
       "      <td>2</td>\n",
       "      <td>Not_Canceled</td>\n",
       "      <td>3460</td>\n",
       "    </tr>\n",
       "  </tbody>\n",
       "</table>\n",
       "</div>"
      ],
      "text/plain": [
       "                    count unique           top  freq\n",
       "type_of_meal_plan    5499      3   Meal Plan 1  4048\n",
       "room_type_reserved   5499      7   Room_Type 1  4114\n",
       "market_segment_type  5499      5        Online  4265\n",
       "booking_status       5499      2  Not_Canceled  3460"
      ]
     },
     "execution_count": 146,
     "metadata": {},
     "output_type": "execute_result"
    }
   ],
   "source": [
    "#non-numeric\n",
    "df.describe(include=['bool','object']).T"
   ]
  },
  {
   "cell_type": "code",
   "execution_count": 147,
   "id": "3057ec4d",
   "metadata": {},
   "outputs": [
    {
     "data": {
      "text/html": [
       "<div>\n",
       "<style scoped>\n",
       "    .dataframe tbody tr th:only-of-type {\n",
       "        vertical-align: middle;\n",
       "    }\n",
       "\n",
       "    .dataframe tbody tr th {\n",
       "        vertical-align: top;\n",
       "    }\n",
       "\n",
       "    .dataframe thead th {\n",
       "        text-align: right;\n",
       "    }\n",
       "</style>\n",
       "<table border=\"1\" class=\"dataframe\">\n",
       "  <thead>\n",
       "    <tr style=\"text-align: right;\">\n",
       "      <th></th>\n",
       "      <th>no_of_adults</th>\n",
       "      <th>no_of_children</th>\n",
       "      <th>no_of_weekend_nights</th>\n",
       "      <th>no_of_week_nights</th>\n",
       "      <th>type_of_meal_plan</th>\n",
       "      <th>required_car_parking_space</th>\n",
       "      <th>room_type_reserved</th>\n",
       "      <th>lead_time</th>\n",
       "      <th>arrival_year</th>\n",
       "      <th>arrival_month</th>\n",
       "      <th>arrival_date</th>\n",
       "      <th>market_segment_type</th>\n",
       "      <th>repeated_guest</th>\n",
       "      <th>no_of_previous_cancellations</th>\n",
       "      <th>no_of_previous_bookings_not_canceled</th>\n",
       "      <th>avg_price_per_room</th>\n",
       "      <th>no_of_special_requests</th>\n",
       "      <th>booking_status</th>\n",
       "    </tr>\n",
       "  </thead>\n",
       "  <tbody>\n",
       "    <tr>\n",
       "      <th>0</th>\n",
       "      <td>False</td>\n",
       "      <td>False</td>\n",
       "      <td>False</td>\n",
       "      <td>False</td>\n",
       "      <td>False</td>\n",
       "      <td>False</td>\n",
       "      <td>False</td>\n",
       "      <td>False</td>\n",
       "      <td>False</td>\n",
       "      <td>False</td>\n",
       "      <td>False</td>\n",
       "      <td>False</td>\n",
       "      <td>False</td>\n",
       "      <td>False</td>\n",
       "      <td>False</td>\n",
       "      <td>False</td>\n",
       "      <td>False</td>\n",
       "      <td>False</td>\n",
       "    </tr>\n",
       "    <tr>\n",
       "      <th>1</th>\n",
       "      <td>False</td>\n",
       "      <td>False</td>\n",
       "      <td>False</td>\n",
       "      <td>False</td>\n",
       "      <td>False</td>\n",
       "      <td>False</td>\n",
       "      <td>False</td>\n",
       "      <td>False</td>\n",
       "      <td>False</td>\n",
       "      <td>False</td>\n",
       "      <td>False</td>\n",
       "      <td>False</td>\n",
       "      <td>False</td>\n",
       "      <td>False</td>\n",
       "      <td>False</td>\n",
       "      <td>False</td>\n",
       "      <td>False</td>\n",
       "      <td>False</td>\n",
       "    </tr>\n",
       "    <tr>\n",
       "      <th>2</th>\n",
       "      <td>False</td>\n",
       "      <td>False</td>\n",
       "      <td>False</td>\n",
       "      <td>False</td>\n",
       "      <td>False</td>\n",
       "      <td>False</td>\n",
       "      <td>False</td>\n",
       "      <td>False</td>\n",
       "      <td>False</td>\n",
       "      <td>False</td>\n",
       "      <td>False</td>\n",
       "      <td>False</td>\n",
       "      <td>False</td>\n",
       "      <td>False</td>\n",
       "      <td>False</td>\n",
       "      <td>False</td>\n",
       "      <td>False</td>\n",
       "      <td>False</td>\n",
       "    </tr>\n",
       "    <tr>\n",
       "      <th>3</th>\n",
       "      <td>False</td>\n",
       "      <td>False</td>\n",
       "      <td>False</td>\n",
       "      <td>False</td>\n",
       "      <td>False</td>\n",
       "      <td>False</td>\n",
       "      <td>False</td>\n",
       "      <td>False</td>\n",
       "      <td>False</td>\n",
       "      <td>False</td>\n",
       "      <td>False</td>\n",
       "      <td>False</td>\n",
       "      <td>False</td>\n",
       "      <td>False</td>\n",
       "      <td>False</td>\n",
       "      <td>False</td>\n",
       "      <td>False</td>\n",
       "      <td>False</td>\n",
       "    </tr>\n",
       "    <tr>\n",
       "      <th>4</th>\n",
       "      <td>False</td>\n",
       "      <td>False</td>\n",
       "      <td>False</td>\n",
       "      <td>False</td>\n",
       "      <td>False</td>\n",
       "      <td>False</td>\n",
       "      <td>False</td>\n",
       "      <td>False</td>\n",
       "      <td>False</td>\n",
       "      <td>False</td>\n",
       "      <td>False</td>\n",
       "      <td>False</td>\n",
       "      <td>False</td>\n",
       "      <td>False</td>\n",
       "      <td>False</td>\n",
       "      <td>False</td>\n",
       "      <td>False</td>\n",
       "      <td>False</td>\n",
       "    </tr>\n",
       "  </tbody>\n",
       "</table>\n",
       "</div>"
      ],
      "text/plain": [
       "   no_of_adults  no_of_children  no_of_weekend_nights  no_of_week_nights  \\\n",
       "0         False           False                 False              False   \n",
       "1         False           False                 False              False   \n",
       "2         False           False                 False              False   \n",
       "3         False           False                 False              False   \n",
       "4         False           False                 False              False   \n",
       "\n",
       "   type_of_meal_plan  required_car_parking_space  room_type_reserved  \\\n",
       "0              False                       False               False   \n",
       "1              False                       False               False   \n",
       "2              False                       False               False   \n",
       "3              False                       False               False   \n",
       "4              False                       False               False   \n",
       "\n",
       "   lead_time  arrival_year  arrival_month  arrival_date  market_segment_type  \\\n",
       "0      False         False          False         False                False   \n",
       "1      False         False          False         False                False   \n",
       "2      False         False          False         False                False   \n",
       "3      False         False          False         False                False   \n",
       "4      False         False          False         False                False   \n",
       "\n",
       "   repeated_guest  no_of_previous_cancellations  \\\n",
       "0           False                         False   \n",
       "1           False                         False   \n",
       "2           False                         False   \n",
       "3           False                         False   \n",
       "4           False                         False   \n",
       "\n",
       "   no_of_previous_bookings_not_canceled  avg_price_per_room  \\\n",
       "0                                 False               False   \n",
       "1                                 False               False   \n",
       "2                                 False               False   \n",
       "3                                 False               False   \n",
       "4                                 False               False   \n",
       "\n",
       "   no_of_special_requests  booking_status  \n",
       "0                   False           False  \n",
       "1                   False           False  \n",
       "2                   False           False  \n",
       "3                   False           False  \n",
       "4                   False           False  "
      ]
     },
     "execution_count": 147,
     "metadata": {},
     "output_type": "execute_result"
    }
   ],
   "source": [
    "#check the missin value\n",
    "df.isna().head()"
   ]
  },
  {
   "cell_type": "code",
   "execution_count": 148,
   "id": "93194e61",
   "metadata": {},
   "outputs": [
    {
     "name": "stdout",
     "output_type": "stream",
     "text": [
      "  booking_status  count  percentage\n",
      "0   Not_Canceled   3460    0.629205\n",
      "1       Canceled   2039    0.370795\n"
     ]
    }
   ],
   "source": [
    "# check the distribution of target column booking_status \n",
    "target_var = pd.DataFrame(df['booking_status'].value_counts()).reset_index()\n",
    "target_var_percenatage = pd.DataFrame(df['booking_status'].value_counts(normalize=True)).reset_index()\n",
    "\n",
    "target_var.columns = ['booking_status','count']\n",
    "target_var_percenatage.columns = ['booking_status','percentage']\n",
    "target_var['percentage'] = target_var_percenatage['percentage']\n",
    "descending_order = df['booking_status'].value_counts().sort_values(ascending=False).index\n",
    "print(target_var)\n",
    "\n"
   ]
  },
  {
   "cell_type": "code",
   "execution_count": 149,
   "id": "14468335",
   "metadata": {},
   "outputs": [
    {
     "data": {
      "image/png": "[encoded data removed]",
      "text/plain": [
       "<Figure size 720x360 with 1 Axes>"
      ]
     },
     "metadata": {
      "needs_background": "light"
     },
     "output_type": "display_data"
    }
   ],
   "source": [
    "#visulaing the target columns distribution \n",
    "pd.DataFrame(df['booking_status'].value_counts())\n",
    "plt.figure(figsize=(10,5))\n",
    "sns.countplot(x = 'booking_status', data=df, order = descending_order)\n",
    "plt.xticks()\n",
    "plt.show()"
   ]
  },
  {
   "cell_type": "code",
   "execution_count": 150,
   "id": "aee35515",
   "metadata": {},
   "outputs": [
    {
     "data": {
      "image/png": "[encoded data removed]",
      "text/plain": [
       "<Figure size 360x360 with 1 Axes>"
      ]
     },
     "metadata": {},
     "output_type": "display_data"
    }
   ],
   "source": [
    "# checking the target columns distribution through Pie chart \n",
    "explode = (0.1, 0.0)\n",
    "colors = ( \"orange\", \"cyan\")\n",
    "wp = { 'linewidth' : 1, 'edgecolor' : \"green\" } # Wedge properties\n",
    "df['booking_status'].value_counts().plot(kind=\"pie\", figsize=(5,5),startangle=90, shadow=True,autopct=\"%1.1f%%\",explode = explode,\n",
    "                                   colors=colors,wedgeprops = wp)\n",
    "plt.show()"
   ]
  },
  {
   "cell_type": "code",
   "execution_count": 151,
   "id": "4984e8b7",
   "metadata": {},
   "outputs": [
    {
     "data": {
      "image/png": "[encoded data removed]",
      "text/plain": [
       "<Figure size 1440x1080 with 16 Axes>"
      ]
     },
     "metadata": {
      "needs_background": "light"
     },
     "output_type": "display_data"
    }
   ],
   "source": [
    "# Overall idea about distribution of data histogram numeric columns\n",
    "df.hist(bins=40, figsize=(20,15))\n",
    "plt.show()"
   ]
  },
  {
   "cell_type": "code",
   "execution_count": 152,
   "id": "786cc08b",
   "metadata": {},
   "outputs": [
    {
     "data": {
      "image/png": "[encoded data removed]",
      "text/plain": [
       "<Figure size 1800x288 with 4 Axes>"
      ]
     },
     "metadata": {
      "needs_background": "light"
     },
     "output_type": "display_data"
    }
   ],
   "source": [
    "# Distribution of categorical variables\n",
    "import matplotlib.pyplot as plt\n",
    "\n",
    "categorical_features = df.select_dtypes(include=['object']).columns\n",
    "\n",
    "fig, ax = plt.subplots(1, len(categorical_features), figsize=(25, 4))\n",
    "for i, categorical_feature in enumerate(df[categorical_features]):\n",
    "    df[categorical_feature].value_counts().plot(kind=\"bar\", ax=ax[i], color='purple').set_title(categorical_feature, weight='bold')"
   ]
  },
  {
   "cell_type": "markdown",
   "id": "17fd12f0",
   "metadata": {},
   "source": [
    "# Exploratory Data Analysis (EDA)\n",
    "1.What are the busiest months in the hotel? ...\n"
   ]
  },
  {
   "cell_type": "code",
   "execution_count": 153,
   "id": "c06c9eab",
   "metadata": {},
   "outputs": [
    {
     "data": {
      "text/html": [
       "<div>\n",
       "<style scoped>\n",
       "    .dataframe tbody tr th:only-of-type {\n",
       "        vertical-align: middle;\n",
       "    }\n",
       "\n",
       "    .dataframe tbody tr th {\n",
       "        vertical-align: top;\n",
       "    }\n",
       "\n",
       "    .dataframe thead th {\n",
       "        text-align: right;\n",
       "    }\n",
       "</style>\n",
       "<table border=\"1\" class=\"dataframe\">\n",
       "  <thead>\n",
       "    <tr style=\"text-align: right;\">\n",
       "      <th></th>\n",
       "      <th>arrival_month</th>\n",
       "      <th>booking_status</th>\n",
       "    </tr>\n",
       "  </thead>\n",
       "  <tbody>\n",
       "    <tr>\n",
       "      <th>0</th>\n",
       "      <td>8</td>\n",
       "      <td>354</td>\n",
       "    </tr>\n",
       "    <tr>\n",
       "      <th>1</th>\n",
       "      <td>6</td>\n",
       "      <td>351</td>\n",
       "    </tr>\n",
       "    <tr>\n",
       "      <th>2</th>\n",
       "      <td>3</td>\n",
       "      <td>332</td>\n",
       "    </tr>\n",
       "    <tr>\n",
       "      <th>3</th>\n",
       "      <td>4</td>\n",
       "      <td>327</td>\n",
       "    </tr>\n",
       "    <tr>\n",
       "      <th>4</th>\n",
       "      <td>5</td>\n",
       "      <td>323</td>\n",
       "    </tr>\n",
       "    <tr>\n",
       "      <th>5</th>\n",
       "      <td>9</td>\n",
       "      <td>313</td>\n",
       "    </tr>\n",
       "    <tr>\n",
       "      <th>6</th>\n",
       "      <td>10</td>\n",
       "      <td>310</td>\n",
       "    </tr>\n",
       "    <tr>\n",
       "      <th>7</th>\n",
       "      <td>7</td>\n",
       "      <td>282</td>\n",
       "    </tr>\n",
       "    <tr>\n",
       "      <th>8</th>\n",
       "      <td>2</td>\n",
       "      <td>229</td>\n",
       "    </tr>\n",
       "    <tr>\n",
       "      <th>9</th>\n",
       "      <td>12</td>\n",
       "      <td>227</td>\n",
       "    </tr>\n",
       "    <tr>\n",
       "      <th>10</th>\n",
       "      <td>1</td>\n",
       "      <td>212</td>\n",
       "    </tr>\n",
       "    <tr>\n",
       "      <th>11</th>\n",
       "      <td>11</td>\n",
       "      <td>200</td>\n",
       "    </tr>\n",
       "  </tbody>\n",
       "</table>\n",
       "</div>"
      ],
      "text/plain": [
       "    arrival_month  booking_status\n",
       "0               8             354\n",
       "1               6             351\n",
       "2               3             332\n",
       "3               4             327\n",
       "4               5             323\n",
       "5               9             313\n",
       "6              10             310\n",
       "7               7             282\n",
       "8               2             229\n",
       "9              12             227\n",
       "10              1             212\n",
       "11             11             200"
      ]
     },
     "execution_count": 153,
     "metadata": {},
     "output_type": "execute_result"
    }
   ],
   "source": [
    "# lets try to get the dataframe where booking status is not canceled\n",
    "dff = df[df['booking_status']=='Not_Canceled']\n",
    "\n",
    "busiest_month_df = dff.groupby('arrival_month')['booking_status'].size().reset_index()\n",
    "busiest_month_df.set_index('arrival_month', inplace=True)\n",
    "busiest_month_df = busiest_month_df['booking_status'].sort_values(ascending=False)\n",
    "busiest_month_df.reset_index()"
   ]
  },
  {
   "cell_type": "code",
   "execution_count": 154,
   "id": "33b56800",
   "metadata": {},
   "outputs": [
    {
     "data": {
      "image/png": "[encoded data removed]",
      "text/plain": [
       "<Figure size 720x360 with 1 Axes>"
      ]
     },
     "metadata": {
      "needs_background": "light"
     },
     "output_type": "display_data"
    }
   ],
   "source": [
    "# visualize the booking status count on each month\n",
    "busiest_month_df.plot(kind='bar', figsize=(10,5), color='y')\n",
    "plt.show()"
   ]
  },
  {
   "cell_type": "markdown",
   "id": "2f872236",
   "metadata": {},
   "source": [
    "# 2. Which market segment do most of the guests come from?"
   ]
  },
  {
   "cell_type": "code",
   "execution_count": 83,
   "id": "97c2c86e",
   "metadata": {},
   "outputs": [
    {
     "data": {
      "text/html": [
       "<div>\n",
       "<style scoped>\n",
       "    .dataframe tbody tr th:only-of-type {\n",
       "        vertical-align: middle;\n",
       "    }\n",
       "\n",
       "    .dataframe tbody tr th {\n",
       "        vertical-align: top;\n",
       "    }\n",
       "\n",
       "    .dataframe thead th {\n",
       "        text-align: right;\n",
       "    }\n",
       "</style>\n",
       "<table border=\"1\" class=\"dataframe\">\n",
       "  <thead>\n",
       "    <tr style=\"text-align: right;\">\n",
       "      <th></th>\n",
       "      <th>market_segment_type</th>\n",
       "      <th>repeated_guest</th>\n",
       "    </tr>\n",
       "  </thead>\n",
       "  <tbody>\n",
       "    <tr>\n",
       "      <th>0</th>\n",
       "      <td>Corporate</td>\n",
       "      <td>80</td>\n",
       "    </tr>\n",
       "    <tr>\n",
       "      <th>1</th>\n",
       "      <td>Complementary</td>\n",
       "      <td>26</td>\n",
       "    </tr>\n",
       "    <tr>\n",
       "      <th>2</th>\n",
       "      <td>Online</td>\n",
       "      <td>14</td>\n",
       "    </tr>\n",
       "    <tr>\n",
       "      <th>3</th>\n",
       "      <td>Offline</td>\n",
       "      <td>13</td>\n",
       "    </tr>\n",
       "    <tr>\n",
       "      <th>4</th>\n",
       "      <td>Aviation</td>\n",
       "      <td>2</td>\n",
       "    </tr>\n",
       "  </tbody>\n",
       "</table>\n",
       "</div>"
      ],
      "text/plain": [
       "  market_segment_type  repeated_guest\n",
       "0           Corporate              80\n",
       "1       Complementary              26\n",
       "2              Online              14\n",
       "3             Offline              13\n",
       "4            Aviation               2"
      ]
     },
     "execution_count": 83,
     "metadata": {},
     "output_type": "execute_result"
    }
   ],
   "source": [
    "#get the dataframe where repeated_guest is Yes\n",
    "dfff = df[df['repeated_guest']==1]\n",
    "market_segment_type = dfff.groupby('market_segment_type')['repeated_guest'].size().reset_index()\n",
    "market_segment_type.set_index('market_segment_type', inplace=True)\n",
    "market_segment_type = market_segment_type['repeated_guest'].sort_values(ascending=False)\n",
    "market_segment_type.reset_index()"
   ]
  },
  {
   "cell_type": "code",
   "execution_count": 84,
   "id": "576ea2bc",
   "metadata": {},
   "outputs": [
    {
     "data": {
      "image/png": "[encoded data removed]",
      "text/plain": [
       "<Figure size 1080x360 with 1 Axes>"
      ]
     },
     "metadata": {
      "needs_background": "light"
     },
     "output_type": "display_data"
    }
   ],
   "source": [
    "# visualize the repeted gusts in every market segment type\n",
    "market_segment_type.plot(kind='bar', figsize=(15,5))\n",
    "plt.show()"
   ]
  },
  {
   "cell_type": "markdown",
   "id": "ef34b4c4",
   "metadata": {},
   "source": [
    "# 3.What are the differences in room prices in different market segments?"
   ]
  },
  {
   "cell_type": "markdown",
   "id": "bf503a5f",
   "metadata": {},
   "source": [
    "Hotel rates are dynamic and change according to demand and customer demographics."
   ]
  },
  {
   "cell_type": "code",
   "execution_count": 161,
   "id": "db7ca751",
   "metadata": {},
   "outputs": [
    {
     "data": {
      "text/html": [
       "<div>\n",
       "<style scoped>\n",
       "    .dataframe tbody tr th:only-of-type {\n",
       "        vertical-align: middle;\n",
       "    }\n",
       "\n",
       "    .dataframe tbody tr th {\n",
       "        vertical-align: top;\n",
       "    }\n",
       "\n",
       "    .dataframe thead th {\n",
       "        text-align: right;\n",
       "    }\n",
       "</style>\n",
       "<table border=\"1\" class=\"dataframe\">\n",
       "  <thead>\n",
       "    <tr style=\"text-align: right;\">\n",
       "      <th></th>\n",
       "      <th>market_segment_type</th>\n",
       "      <th>avg_price_per_room</th>\n",
       "    </tr>\n",
       "  </thead>\n",
       "  <tbody>\n",
       "    <tr>\n",
       "      <th>0</th>\n",
       "      <td>Online</td>\n",
       "      <td>4265</td>\n",
       "    </tr>\n",
       "    <tr>\n",
       "      <th>1</th>\n",
       "      <td>Offline</td>\n",
       "      <td>905</td>\n",
       "    </tr>\n",
       "    <tr>\n",
       "      <th>2</th>\n",
       "      <td>Corporate</td>\n",
       "      <td>252</td>\n",
       "    </tr>\n",
       "    <tr>\n",
       "      <th>3</th>\n",
       "      <td>Complementary</td>\n",
       "      <td>64</td>\n",
       "    </tr>\n",
       "    <tr>\n",
       "      <th>4</th>\n",
       "      <td>Aviation</td>\n",
       "      <td>13</td>\n",
       "    </tr>\n",
       "  </tbody>\n",
       "</table>\n",
       "</div>"
      ],
      "text/plain": [
       "  market_segment_type  avg_price_per_room\n",
       "0              Online                4265\n",
       "1             Offline                 905\n",
       "2           Corporate                 252\n",
       "3       Complementary                  64\n",
       "4            Aviation                  13"
      ]
     },
     "execution_count": 161,
     "metadata": {},
     "output_type": "execute_result"
    }
   ],
   "source": [
    "# lets try to get the dataframe \n",
    "market_segment_type_room = df.groupby('market_segment_type')['avg_price_per_room'].size().reset_index()\n",
    "market_segment_type_room.set_index('market_segment_type', inplace=True)\n",
    "market_segment_type_room = market_segment_type_room['avg_price_per_room'].sort_values(ascending=False)\n",
    "market_segment_type_room.reset_index()"
   ]
  },
  {
   "cell_type": "code",
   "execution_count": 166,
   "id": "6ef4dbbd",
   "metadata": {},
   "outputs": [
    {
     "data": {
      "image/png": "[encoded data removed]",
      "text/plain": [
       "<Figure size 1080x360 with 1 Axes>"
      ]
     },
     "metadata": {
      "needs_background": "light"
     },
     "output_type": "display_data"
    }
   ],
   "source": [
    "market_segment_type_room.plot(kind='bar', figsize=(15,5))\n",
    "plt.show()"
   ]
  },
  {
   "cell_type": "markdown",
   "id": "407df4aa",
   "metadata": {},
   "source": [
    "# 4. What percentage of bookings are canceled?"
   ]
  },
  {
   "cell_type": "code",
   "execution_count": 88,
   "id": "b2670ec7",
   "metadata": {},
   "outputs": [
    {
     "name": "stdout",
     "output_type": "stream",
     "text": [
      "37.08% percentage of bookings are canceled.\n"
     ]
    }
   ],
   "source": [
    "cancelled_booking_perc = round(df['booking_status'].value_counts(normalize=True)[1],4)\n",
    "print(f\"{cancelled_booking_perc*100}% percentage of bookings are canceled.\")"
   ]
  },
  {
   "cell_type": "markdown",
   "id": "174e5c2d",
   "metadata": {},
   "source": [
    "# 5.What percentage of repeating guests cancel?"
   ]
  },
  {
   "cell_type": "markdown",
   "id": "57b15fc8",
   "metadata": {},
   "source": [
    "Repeating guests are the guests who stay in the hotel often and are important to brand equity.\n",
    "\n"
   ]
  },
  {
   "cell_type": "code",
   "execution_count": 89,
   "id": "4e455ace",
   "metadata": {},
   "outputs": [
    {
     "name": "stdout",
     "output_type": "stream",
     "text": [
      "0.1% percentage of repeated_guest are canceled.\n"
     ]
    }
   ],
   "source": [
    "# lets try to get the dataframe where booking status is canceled\n",
    "dff_canc = df[(df['booking_status']=='Canceled')]\n",
    "\n",
    "cancelled_booking_perc = round(dff_canc['repeated_guest'].value_counts(normalize=True)[1],4)\n",
    "print(f\"{cancelled_booking_perc*100}% percentage of repeated_guest are canceled.\")"
   ]
  },
  {
   "cell_type": "markdown",
   "id": "808cee1b",
   "metadata": {},
   "source": [
    "# Data Preprocessing"
   ]
  },
  {
   "cell_type": "code",
   "execution_count": 90,
   "id": "5752866c",
   "metadata": {},
   "outputs": [
    {
     "data": {
      "text/plain": [
       "no_of_adults                            0\n",
       "no_of_children                          0\n",
       "no_of_weekend_nights                    0\n",
       "no_of_week_nights                       0\n",
       "type_of_meal_plan                       0\n",
       "required_car_parking_space              0\n",
       "room_type_reserved                      0\n",
       "lead_time                               0\n",
       "arrival_year                            0\n",
       "arrival_month                           0\n",
       "arrival_date                            0\n",
       "market_segment_type                     0\n",
       "repeated_guest                          0\n",
       "no_of_previous_cancellations            0\n",
       "no_of_previous_bookings_not_canceled    0\n",
       "avg_price_per_room                      0\n",
       "no_of_special_requests                  0\n",
       "booking_status                          0\n",
       "dtype: int64"
      ]
     },
     "execution_count": 90,
     "metadata": {},
     "output_type": "execute_result"
    }
   ],
   "source": [
    "# checking the missing values in dataset\n",
    "df.isnull().sum()"
   ]
  },
  {
   "cell_type": "code",
   "execution_count": 91,
   "id": "6e3d87ed",
   "metadata": {},
   "outputs": [],
   "source": [
    "# remove the irrelevent columns that are not useful for the model prediction\n",
    "df.drop(['arrival_year','arrival_month','arrival_date'], axis = 1, inplace=True)"
   ]
  },
  {
   "cell_type": "code",
   "execution_count": 92,
   "id": "5663c611",
   "metadata": {},
   "outputs": [],
   "source": [
    "#Transform non-numerical labels to numerical labels\n",
    "from sklearn.preprocessing import StandardScaler, LabelEncoder\n",
    "labelEnc = LabelEncoder()\n",
    "for i in list(df.columns):\n",
    "    if df[i].dtype == 'object':\n",
    "        df[i] = labelEnc.fit_transform(df[i])\n"
   ]
  },
  {
   "cell_type": "code",
   "execution_count": 93,
   "id": "cec796df",
   "metadata": {},
   "outputs": [],
   "source": [
    "## Extract Dependent and Independent Variables\n",
    "X = df[['no_of_adults', 'no_of_weekend_nights', 'no_of_week_nights',\n",
    "       'type_of_meal_plan', 'room_type_reserved', 'lead_time',\n",
    "       'market_segment_type', 'avg_price_per_room', 'no_of_special_requests']]\n",
    "Y = df[['booking_status']]"
   ]
  },
  {
   "cell_type": "code",
   "execution_count": 94,
   "id": "a40dac66",
   "metadata": {},
   "outputs": [
    {
     "data": {
      "text/html": [
       "<div>\n",
       "<style scoped>\n",
       "    .dataframe tbody tr th:only-of-type {\n",
       "        vertical-align: middle;\n",
       "    }\n",
       "\n",
       "    .dataframe tbody tr th {\n",
       "        vertical-align: top;\n",
       "    }\n",
       "\n",
       "    .dataframe thead th {\n",
       "        text-align: right;\n",
       "    }\n",
       "</style>\n",
       "<table border=\"1\" class=\"dataframe\">\n",
       "  <thead>\n",
       "    <tr style=\"text-align: right;\">\n",
       "      <th></th>\n",
       "      <th>no_of_adults</th>\n",
       "      <th>no_of_weekend_nights</th>\n",
       "      <th>no_of_week_nights</th>\n",
       "      <th>type_of_meal_plan</th>\n",
       "      <th>room_type_reserved</th>\n",
       "      <th>lead_time</th>\n",
       "      <th>market_segment_type</th>\n",
       "      <th>avg_price_per_room</th>\n",
       "      <th>no_of_special_requests</th>\n",
       "    </tr>\n",
       "  </thead>\n",
       "  <tbody>\n",
       "    <tr>\n",
       "      <th>0</th>\n",
       "      <td>2</td>\n",
       "      <td>1</td>\n",
       "      <td>2</td>\n",
       "      <td>0</td>\n",
       "      <td>0</td>\n",
       "      <td>224</td>\n",
       "      <td>3</td>\n",
       "      <td>65.00</td>\n",
       "      <td>0</td>\n",
       "    </tr>\n",
       "    <tr>\n",
       "      <th>1</th>\n",
       "      <td>2</td>\n",
       "      <td>2</td>\n",
       "      <td>3</td>\n",
       "      <td>2</td>\n",
       "      <td>0</td>\n",
       "      <td>5</td>\n",
       "      <td>4</td>\n",
       "      <td>106.68</td>\n",
       "      <td>1</td>\n",
       "    </tr>\n",
       "    <tr>\n",
       "      <th>2</th>\n",
       "      <td>1</td>\n",
       "      <td>2</td>\n",
       "      <td>1</td>\n",
       "      <td>0</td>\n",
       "      <td>0</td>\n",
       "      <td>1</td>\n",
       "      <td>4</td>\n",
       "      <td>60.00</td>\n",
       "      <td>0</td>\n",
       "    </tr>\n",
       "    <tr>\n",
       "      <th>3</th>\n",
       "      <td>2</td>\n",
       "      <td>0</td>\n",
       "      <td>2</td>\n",
       "      <td>0</td>\n",
       "      <td>0</td>\n",
       "      <td>211</td>\n",
       "      <td>4</td>\n",
       "      <td>100.00</td>\n",
       "      <td>0</td>\n",
       "    </tr>\n",
       "    <tr>\n",
       "      <th>4</th>\n",
       "      <td>3</td>\n",
       "      <td>0</td>\n",
       "      <td>3</td>\n",
       "      <td>2</td>\n",
       "      <td>0</td>\n",
       "      <td>277</td>\n",
       "      <td>4</td>\n",
       "      <td>89.10</td>\n",
       "      <td>2</td>\n",
       "    </tr>\n",
       "  </tbody>\n",
       "</table>\n",
       "</div>"
      ],
      "text/plain": [
       "   no_of_adults  no_of_weekend_nights  no_of_week_nights  type_of_meal_plan  \\\n",
       "0             2                     1                  2                  0   \n",
       "1             2                     2                  3                  2   \n",
       "2             1                     2                  1                  0   \n",
       "3             2                     0                  2                  0   \n",
       "4             3                     0                  3                  2   \n",
       "\n",
       "   room_type_reserved  lead_time  market_segment_type  avg_price_per_room  \\\n",
       "0                   0        224                    3               65.00   \n",
       "1                   0          5                    4              106.68   \n",
       "2                   0          1                    4               60.00   \n",
       "3                   0        211                    4              100.00   \n",
       "4                   0        277                    4               89.10   \n",
       "\n",
       "   no_of_special_requests  \n",
       "0                       0  \n",
       "1                       1  \n",
       "2                       0  \n",
       "3                       0  \n",
       "4                       2  "
      ]
     },
     "execution_count": 94,
     "metadata": {},
     "output_type": "execute_result"
    }
   ],
   "source": [
    "# independent variables\n",
    "X.head()"
   ]
  },
  {
   "cell_type": "code",
   "execution_count": 95,
   "id": "103be6d9",
   "metadata": {},
   "outputs": [
    {
     "data": {
      "text/html": [
       "<div>\n",
       "<style scoped>\n",
       "    .dataframe tbody tr th:only-of-type {\n",
       "        vertical-align: middle;\n",
       "    }\n",
       "\n",
       "    .dataframe tbody tr th {\n",
       "        vertical-align: top;\n",
       "    }\n",
       "\n",
       "    .dataframe thead th {\n",
       "        text-align: right;\n",
       "    }\n",
       "</style>\n",
       "<table border=\"1\" class=\"dataframe\">\n",
       "  <thead>\n",
       "    <tr style=\"text-align: right;\">\n",
       "      <th></th>\n",
       "      <th>booking_status</th>\n",
       "    </tr>\n",
       "  </thead>\n",
       "  <tbody>\n",
       "    <tr>\n",
       "      <th>0</th>\n",
       "      <td>1</td>\n",
       "    </tr>\n",
       "    <tr>\n",
       "      <th>1</th>\n",
       "      <td>1</td>\n",
       "    </tr>\n",
       "    <tr>\n",
       "      <th>2</th>\n",
       "      <td>0</td>\n",
       "    </tr>\n",
       "    <tr>\n",
       "      <th>3</th>\n",
       "      <td>0</td>\n",
       "    </tr>\n",
       "    <tr>\n",
       "      <th>4</th>\n",
       "      <td>0</td>\n",
       "    </tr>\n",
       "  </tbody>\n",
       "</table>\n",
       "</div>"
      ],
      "text/plain": [
       "   booking_status\n",
       "0               1\n",
       "1               1\n",
       "2               0\n",
       "3               0\n",
       "4               0"
      ]
     },
     "execution_count": 95,
     "metadata": {},
     "output_type": "execute_result"
    }
   ],
   "source": [
    "# dependent variable\n",
    "Y.head()"
   ]
  },
  {
   "cell_type": "markdown",
   "id": "ed218706",
   "metadata": {},
   "source": [
    "# Split Train Test"
   ]
  },
  {
   "cell_type": "code",
   "execution_count": 96,
   "id": "9243e65c",
   "metadata": {},
   "outputs": [],
   "source": [
    "#splitting the dataset 80% for training and 20% for testing\n",
    "from sklearn.model_selection import train_test_split\n",
    "X_train, X_test, Y_train, Y_test = train_test_split(X,Y, test_size = 0.2, random_state = 42)"
   ]
  },
  {
   "cell_type": "code",
   "execution_count": 97,
   "id": "71c1dfc1",
   "metadata": {},
   "outputs": [
    {
     "name": "stdout",
     "output_type": "stream",
     "text": [
      "Training Shape : (4399, 9)\n",
      "Testing Shape : (1100, 9)\n"
     ]
    }
   ],
   "source": [
    "#to check the shape of training and testing\n",
    "print(\"Training Shape :\",X_train.shape)\n",
    "print(\"Testing Shape :\",X_test.shape)"
   ]
  },
  {
   "cell_type": "code",
   "execution_count": 98,
   "id": "05e58601",
   "metadata": {},
   "outputs": [],
   "source": [
    "# standardization our data that better for model prediction because values lies in a specific range (0,1)\n",
    "st_x= StandardScaler()  \n",
    "X_train= st_x.fit_transform(X_train) \n",
    "X_test= st_x.transform(X_test) "
   ]
  },
  {
   "cell_type": "markdown",
   "id": "a3924ffe",
   "metadata": {},
   "source": [
    "## Importing Libraries"
   ]
  },
  {
   "cell_type": "code",
   "execution_count": 167,
   "id": "718467d5",
   "metadata": {},
   "outputs": [],
   "source": [
    "# Import classifiers\n",
    "from sklearn.neighbors import KNeighborsClassifier\n",
    "from sklearn.tree import DecisionTreeClassifier\n",
    "from sklearn.ensemble import RandomForestClassifier\n",
    "from sklearn.linear_model import LogisticRegression\n",
    "from sklearn.neighbors import KNeighborsClassifier\n",
    "from sklearn import metrics\n",
    "from sklearn.svm import SVC\n",
    "from tabulate import tabulate"
   ]
  },
  {
   "cell_type": "code",
   "execution_count": 168,
   "id": "cfa3b7a3",
   "metadata": {},
   "outputs": [],
   "source": [
    "# import methods for measuring accuracy, precision, recall etc\n",
    "from sklearn.metrics import (\n",
    "    accuracy_score, \n",
    "    precision_score,\n",
    "    recall_score,\n",
    "    f1_score,\n",
    "    classification_report,\n",
    "    confusion_matrix,  \n",
    ")"
   ]
  },
  {
   "cell_type": "code",
   "execution_count": 169,
   "id": "18fc7c30",
   "metadata": {},
   "outputs": [],
   "source": [
    "# function for evaluation metrics precision, recall, f1 etc\n",
    "def modelEvaluation(predictions, y_test_set, model_name):\n",
    "    # Print model evaluation to predicted result    \n",
    "    print(\"==========\",model_name,\"==========\")\n",
    "    print (\"\\nAccuracy on validation set: {:.4f}\".format(accuracy_score(y_test_set, predictions)))\n",
    "    print (\"Precision on validation set: {:.4f}\".format(precision_score(y_test_set, predictions)))    \n",
    "    print (\"Recall on validation set: {:.4f}\".format(recall_score(y_test_set, predictions)))\n",
    "    print (\"F1_Score on validation set: {:.4f}\".format(f1_score(y_test_set, predictions)))\n",
    "    print (\"\\nClassification report : \\n\", classification_report(y_test_set, predictions))\n",
    "    print (\"\\nConfusion Matrix : \\n\", confusion_matrix(y_test_set, predictions))\n",
    "    results = [accuracy_score(y_test_set, predictions),precision_score(y_test_set, predictions),\n",
    "              recall_score(y_test_set, predictions),f1_score(y_test_set, predictions)]\n",
    "    return results"
   ]
  },
  {
   "cell_type": "markdown",
   "id": "c2c8cba9",
   "metadata": {},
   "source": [
    "# Model building - KNN"
   ]
  },
  {
   "cell_type": "code",
   "execution_count": 170,
   "id": "d6979024",
   "metadata": {
    "scrolled": true
   },
   "outputs": [
    {
     "name": "stdout",
     "output_type": "stream",
     "text": [
      "========== k-nearest neighbours ==========\n",
      "\n",
      "Accuracy on validation set: 0.8173\n",
      "Precision on validation set: 0.8535\n",
      "Recall on validation set: 0.8620\n",
      "F1_Score on validation set: 0.8577\n",
      "\n",
      "Classification report : \n",
      "               precision    recall  f1-score   support\n",
      "\n",
      "           0       0.75      0.74      0.74       397\n",
      "           1       0.85      0.86      0.86       703\n",
      "\n",
      "    accuracy                           0.82      1100\n",
      "   macro avg       0.80      0.80      0.80      1100\n",
      "weighted avg       0.82      0.82      0.82      1100\n",
      "\n",
      "\n",
      "Confusion Matrix : \n",
      " [[293 104]\n",
      " [ 97 606]]\n"
     ]
    },
    {
     "name": "stderr",
     "output_type": "stream",
     "text": [
      "/opt/anaconda3/lib/python3.8/site-packages/sklearn/neighbors/_classification.py:179: DataConversionWarning: A column-vector y was passed when a 1d array was expected. Please change the shape of y to (n_samples,), for example using ravel().\n",
      "  return self._fit(X, y)\n"
     ]
    }
   ],
   "source": [
    "#Create KNN Classifier\n",
    "knn_model = KNeighborsClassifier()\n",
    "#Train the model using the training sets\n",
    "knn_model.fit(X_train, Y_train) \n",
    "#Predict the response for test dataset\n",
    "pred_knn = knn_model.predict(X_test) \n",
    "\n",
    "# Print model evaluation to predicted result    \n",
    "results_knn = modelEvaluation(pred_knn, Y_test, 'k-nearest neighbours') \n"
   ]
  },
  {
   "cell_type": "code",
   "execution_count": 171,
   "id": "4059d0d1",
   "metadata": {},
   "outputs": [
    {
     "data": {
      "image/png": "[encoded data removed]",
      "text/plain": [
       "<Figure size 432x288 with 2 Axes>"
      ]
     },
     "metadata": {
      "needs_background": "light"
     },
     "output_type": "display_data"
    }
   ],
   "source": [
    "#Convert the target variable into numeric format 0 or 1\n",
    "classes = ['1','0']\n",
    "    \n",
    "#plot a confusion matrix to visualize the classifer's performance\n",
    "sns.heatmap(confusion_matrix(Y_test, pred_knn),annot=True,yticklabels=classes\n",
    "               ,xticklabels=classes,cmap='Blues', fmt='g')\n",
    "plt.tight_layout()\n",
    "plt.show()"
   ]
  },
  {
   "cell_type": "markdown",
   "id": "b46da0be",
   "metadata": {},
   "source": [
    "# Model building - SVM"
   ]
  },
  {
   "cell_type": "code",
   "execution_count": 172,
   "id": "36e71169",
   "metadata": {},
   "outputs": [
    {
     "name": "stderr",
     "output_type": "stream",
     "text": [
      "/opt/anaconda3/lib/python3.8/site-packages/sklearn/utils/validation.py:63: DataConversionWarning: A column-vector y was passed when a 1d array was expected. Please change the shape of y to (n_samples, ), for example using ravel().\n",
      "  return f(*args, **kwargs)\n"
     ]
    },
    {
     "name": "stdout",
     "output_type": "stream",
     "text": [
      "========== Support Vector Machine ==========\n",
      "\n",
      "Accuracy on validation set: 0.8282\n",
      "Precision on validation set: 0.8589\n",
      "Recall on validation set: 0.8748\n",
      "F1_Score on validation set: 0.8668\n",
      "\n",
      "Classification report : \n",
      "               precision    recall  f1-score   support\n",
      "\n",
      "           0       0.77      0.75      0.76       397\n",
      "           1       0.86      0.87      0.87       703\n",
      "\n",
      "    accuracy                           0.83      1100\n",
      "   macro avg       0.81      0.81      0.81      1100\n",
      "weighted avg       0.83      0.83      0.83      1100\n",
      "\n",
      "\n",
      "Confusion Matrix : \n",
      " [[296 101]\n",
      " [ 88 615]]\n"
     ]
    }
   ],
   "source": [
    "#Create a svm Classifier\n",
    "svc_model = SVC()\n",
    "#Train the model using the training sets\n",
    "svc_model.fit(X_train, Y_train)\n",
    "#Predict the response for test dataset\n",
    "pred_svc = svc_model.predict(X_test)\n",
    "\n",
    "# Print model evaluation to predicted result  \n",
    "results_svc = modelEvaluation(pred_svc, Y_test, 'Support Vector Machine')\n"
   ]
  },
  {
   "cell_type": "code",
   "execution_count": 173,
   "id": "410932c9",
   "metadata": {},
   "outputs": [
    {
     "data": {
      "image/png": "[encoded data removed]",
      "text/plain": [
       "<Figure size 432x288 with 2 Axes>"
      ]
     },
     "metadata": {
      "needs_background": "light"
     },
     "output_type": "display_data"
    }
   ],
   "source": [
    "    #Convert the target variable into numeric format 0 or 1\n",
    "    classes = ['1','0']\n",
    "    \n",
    "    #plot a confusion matrix to visualize the classifer's performance\n",
    "    sns.heatmap(confusion_matrix(Y_test, pred_svc),annot=True,yticklabels=classes\n",
    "               ,xticklabels=classes,cmap='Greens', fmt='g')\n",
    "    plt.tight_layout()\n",
    "    plt.show()"
   ]
  },
  {
   "cell_type": "markdown",
   "id": "1169b0e3",
   "metadata": {},
   "source": [
    "# Model building -  Random Forest"
   ]
  },
  {
   "cell_type": "code",
   "execution_count": 174,
   "id": "29b6619e",
   "metadata": {},
   "outputs": [
    {
     "name": "stderr",
     "output_type": "stream",
     "text": [
      "<ipython-input-174-d79b4b3be1d3>:4: DataConversionWarning: A column-vector y was passed when a 1d array was expected. Please change the shape of y to (n_samples,), for example using ravel().\n",
      "  rf_model.fit(X_train, Y_train)\n"
     ]
    },
    {
     "name": "stdout",
     "output_type": "stream",
     "text": [
      "========== Random Forest ==========\n",
      "\n",
      "Accuracy on validation set: 0.8491\n",
      "Precision on validation set: 0.8830\n",
      "Recall on validation set: 0.8805\n",
      "F1_Score on validation set: 0.8818\n",
      "\n",
      "Classification report : \n",
      "               precision    recall  f1-score   support\n",
      "\n",
      "           0       0.79      0.79      0.79       397\n",
      "           1       0.88      0.88      0.88       703\n",
      "\n",
      "    accuracy                           0.85      1100\n",
      "   macro avg       0.84      0.84      0.84      1100\n",
      "weighted avg       0.85      0.85      0.85      1100\n",
      "\n",
      "\n",
      "Confusion Matrix : \n",
      " [[315  82]\n",
      " [ 84 619]]\n"
     ]
    }
   ],
   "source": [
    "#Create a RandomForest Classifier\n",
    "rf_model = RandomForestClassifier()\n",
    "#Train the model using the training sets\n",
    "rf_model.fit(X_train, Y_train)\n",
    "#Predict the response for test dataset\n",
    "pred_rf = rf_model.predict(X_test)\n",
    "\n",
    "# Print model evaluation to predicted result  \n",
    "results_rf = modelEvaluation(pred_rf, Y_test, 'Random Forest')"
   ]
  },
  {
   "cell_type": "code",
   "execution_count": 175,
   "id": "12576534",
   "metadata": {},
   "outputs": [
    {
     "data": {
      "image/png": "[encoded data removed]",
      "text/plain": [
       "<Figure size 432x288 with 2 Axes>"
      ]
     },
     "metadata": {
      "needs_background": "light"
     },
     "output_type": "display_data"
    }
   ],
   "source": [
    "#Convert the target variable into numeric format 0 or 1\n",
    "classes = ['1','0']\n",
    "\n",
    "#plot a confusion matrix to visualize the classifer's performance\n",
    "sns.heatmap(confusion_matrix(Y_test, pred_rf),annot=True,yticklabels=classes\n",
    "               ,xticklabels=classes,cmap='Reds', fmt='g')\n",
    "plt.tight_layout()\n",
    "plt.show()"
   ]
  },
  {
   "cell_type": "markdown",
   "id": "c93f080b",
   "metadata": {},
   "source": [
    "# Model building - Decision Tree"
   ]
  },
  {
   "cell_type": "code",
   "execution_count": 176,
   "id": "38853c48",
   "metadata": {},
   "outputs": [
    {
     "name": "stdout",
     "output_type": "stream",
     "text": [
      "========== Decision tree ==========\n",
      "\n",
      "Accuracy on validation set: 0.8091\n",
      "Precision on validation set: 0.8652\n",
      "Recall on validation set: 0.8307\n",
      "F1_Score on validation set: 0.8476\n",
      "\n",
      "Classification report : \n",
      "               precision    recall  f1-score   support\n",
      "\n",
      "           0       0.72      0.77      0.74       397\n",
      "           1       0.87      0.83      0.85       703\n",
      "\n",
      "    accuracy                           0.81      1100\n",
      "   macro avg       0.79      0.80      0.80      1100\n",
      "weighted avg       0.81      0.81      0.81      1100\n",
      "\n",
      "\n",
      "Confusion Matrix : \n",
      " [[306  91]\n",
      " [119 584]]\n"
     ]
    }
   ],
   "source": [
    "#Create a DecisionTree Classifier\n",
    "dt_model = DecisionTreeClassifier()\n",
    "#Train the model using the training sets\n",
    "dt_model.fit(X_train, Y_train)\n",
    "#Predict the response for test dataset\n",
    "pred_dt = dt_model.predict(X_test)\n",
    "\n",
    "# Print model evaluation to predicted result  \n",
    "results_dt = modelEvaluation(pred_dt, Y_test, 'Decision tree')"
   ]
  },
  {
   "cell_type": "code",
   "execution_count": 177,
   "id": "6c218878",
   "metadata": {},
   "outputs": [
    {
     "data": {
      "image/png": "[encoded data removed]",
      "text/plain": [
       "<Figure size 432x288 with 2 Axes>"
      ]
     },
     "metadata": {
      "needs_background": "light"
     },
     "output_type": "display_data"
    }
   ],
   "source": [
    "#Convert the target variable into numeric format 0 or 1\n",
    "classes = ['1','0']\n",
    "\n",
    "#plot a confusion matrix to visualize the classifer's performance\n",
    "sns.heatmap(confusion_matrix(Y_test, pred_dt),annot=True,yticklabels=classes\n",
    "               ,xticklabels=classes,cmap='BuPu', fmt='g')\n",
    "plt.tight_layout()\n",
    "plt.show()"
   ]
  },
  {
   "cell_type": "markdown",
   "id": "6ec6c9a1",
   "metadata": {},
   "source": [
    "# Model Performance Evaluation"
   ]
  },
  {
   "cell_type": "code",
   "execution_count": 178,
   "id": "cb33ee74",
   "metadata": {},
   "outputs": [
    {
     "name": "stdout",
     "output_type": "stream",
     "text": [
      "+-----------+-----------------+------------------------+--------------------------+-----------------+\n",
      "| Metrics   |   decision tree |   k-nearest neighbours |   support vector machine |   random forest |\n",
      "|-----------+-----------------+------------------------+--------------------------+-----------------|\n",
      "| accuracy  |        0.809091 |               0.817273 |                 0.828182 |        0.849091 |\n",
      "| precision |        0.865185 |               0.853521 |                 0.858939 |        0.883024 |\n",
      "| recall    |        0.830725 |               0.86202  |                 0.874822 |        0.880512 |\n",
      "| f1-score  |        0.847605 |               0.857749 |                 0.866808 |        0.881766 |\n",
      "+-----------+-----------------+------------------------+--------------------------+-----------------+\n"
     ]
    }
   ],
   "source": [
    "# showing all models result\n",
    "dic = {\n",
    "    'Metrics':['accuracy','precision','recall','f1-score'],\n",
    "    'decision tree' : results_dt,\n",
    "    'k-nearest neighbours' : results_knn,\n",
    "    'support vector machine' : results_svc,\n",
    "    'random forest' : results_rf,\n",
    "}\n",
    "metrics_df = pd.DataFrame(dic)\n",
    "metrics_df = metrics_df.set_index('Metrics')\n",
    "print(tabulate(metrics_df, headers = 'keys', tablefmt = 'psql'))"
   ]
  },
  {
   "cell_type": "code",
   "execution_count": 179,
   "id": "7c65f4a2",
   "metadata": {},
   "outputs": [
    {
     "data": {
      "image/png": "[encoded data removed]",
      "text/plain": [
       "<Figure size 1584x576 with 1 Axes>"
      ]
     },
     "metadata": {
      "needs_background": "light"
     },
     "output_type": "display_data"
    }
   ],
   "source": [
    "#visualise the results from all models \n",
    "metrics_df.plot(kind='bar', figsize=(22,8))\n",
    "plt.show()"
   ]
  },
  {
   "cell_type": "markdown",
   "id": "0cfaff12",
   "metadata": {},
   "source": [
    "**We can see in above table Random forest giving a good score as compare to others.**"
   ]
  }
 ],
 "metadata": {
  "kernelspec": {
   "display_name": "Python 3",
   "language": "python",
   "name": "python3"
  },
  "language_info": {
   "codemirror_mode": {
    "name": "ipython",
    "version": 3
   },
   "file_extension": ".py",
   "mimetype": "text/x-python",
   "name": "python",
   "nbconvert_exporter": "python",
   "pygments_lexer": "ipython3",
   "version": "3.8.8"
  }
 },
 "nbformat": 4,
 "nbformat_minor": 5
}
